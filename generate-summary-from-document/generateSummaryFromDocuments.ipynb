{
 "cells": [
  {
   "cell_type": "markdown",
   "metadata": {},
   "source": [
    "<h2>Demo from a pdf. Replace pdf_content[0] in the first call of the writer to make it functionnal</h2>"
   ]
  },
  {
   "cell_type": "markdown",
   "metadata": {},
   "source": [
    "# Imports, init modèle de langue et du parser"
   ]
  },
  {
   "cell_type": "code",
   "execution_count": null,
   "metadata": {},
   "outputs": [
    {
     "data": {
      "text/plain": [
       "AIMessage(content='Langsmith is a language translation and localization company, and it can help with testing in the following ways:\\n\\n1. Language Testing: Langsmith can ensure that the translation of your software, website, or application is accurate and free of errors. They can also test for linguistic consistency, cultural appropriateness, and compliance with industry-specific terminology.\\n2. Functional Testing: Langsmith can test the functionality of your localized software, website, or application to ensure that it works as expected in different languages. This includes testing for character display, text wrapping, and other language-specific issues that can affect the user experience.\\n3. Localization Testing: Langsmith can perform localization testing to ensure that your software, website, or application is adapted to the cultural, legal, and technical requirements of the target market. This includes testing for date and time formats, currency symbols, and other regional differences.\\n4. Compatibility Testing: Langsmith can test the compatibility of your localized software, website, or application across different platforms, browsers, and devices to ensure that it works seamlessly in different languages.\\n5. User Acceptance Testing: Langsmith can recruit and manage a team of native-speaking testers to perform user acceptance testing (UAT) on your localized software, website, or application. This can help you identify any issues or bugs that may have been missed during previous testing phases.\\n\\nBy providing comprehensive testing services, Langsmith can help ensure that your localized software, website, or application is of high quality, culturally appropriate, and functional in different languages, which can help you expand your reach and grow your business in new markets.', response_metadata={'token_usage': {'prompt_tokens': 16, 'total_tokens': 371, 'completion_tokens': 355}, 'model': 'mistral-small', 'finish_reason': 'stop'}, id='run-99cf845b-0e40-4480-8060-c0dafde5432d-0')"
      ]
     },
     "execution_count": 55,
     "metadata": {},
     "output_type": "execute_result"
    }
   ],
   "source": [
    "input = \"Ceci est un ensemble de chunks concaténés\"\n",
    "\n",
    "from langchain_mistralai import ChatMistralAI\n",
    "from langchain.memory import ConversationBufferMemory\n",
    "from langchain_core.output_parsers import StrOutputParser\n",
    "\n",
    "llm = ChatMistralAI(api_key = \"ImsUHfFLA6OjlX6mARbnM1YcDOy7ujsq\")\n",
    "\n",
    "output_parser = StrOutputParser()"
   ]
  },
  {
   "cell_type": "markdown",
   "metadata": {},
   "source": [
    "<h2>Definition of the summarizer and its memory</h2>"
   ]
  },
  {
   "cell_type": "code",
   "execution_count": 80,
   "metadata": {},
   "outputs": [
    {
     "name": "stdout",
     "output_type": "stream",
     "text": [
      "\n",
      "\n",
      "\u001b[1m> Entering new LLMChain chain...\u001b[0m\n",
      "Prompt after formatting:\n",
      "\u001b[32;1m\u001b[1;3mSystem: \n",
      "    You are the redactor. Given a chapter of a book, you are able to write a small course in less than 300 words, that is very ludic and interesting about the topic of the corresponding document.\n",
      "    You need to adapt the informations that you teach based on 3 levels of difficulty:\n",
      "    - Newbie\n",
      "    - Intermediate\n",
      "    - Advanced\n",
      "    \n",
      "Human: You are going to summarize for a Newbie. Here is the information : CLASSE DE TERMINALE..................................................................... 5\n",
      "COURS D'HISTOIRE............................................................................. 5\n",
      "S............................................................................................................. 5\n",
      "Introduc tion : le Monde  en 1945 ( 2 ou 3 he ures)..................................................................... 6\n",
      "I. Un monde  boul eversé...................................................................................................... 6\n",
      "1. Le bilan hum ain et matériel........................................................................................ 6\n",
      "Les victimes de la Seconde  Guerre Mondiale....................................................... 6\n",
      "Militaires.......................................................................................................... 6\n",
      "Pologne........................................................................................................ 6\n",
      "2. Le bilan économ ique et social.................................................................................... 6\n",
      "L'engagement économ ique........................................................................................ 6\n",
      "Les boul eversements sociaux.................................................................................... 6\n",
      "3. Le bilan moral, et les procès de Nuremberg............................................................... 8\n",
      "Chapitre 1 : la guerre froide 1947- 1991 ( 7-8 heures).............................................................. 8\n",
      "I. le modèle soviétique........................................................................................................ 8\n",
      "1. une  référence idéologique : le Marxisme Léninisme................................................. 8\n",
      "La primauté de l'idéologie......................................................................................... 8\n",
      "Un régime issu de la « révolution »  d'O ctobre......................................................... 9\n",
      "Un Etat Fédéral.......................................................................................................... 9\n",
      "L'U.R.S.S., Mecque du c ommunisme........................................................................ 9\n",
      "2. L'apogé e du régime sous Staline : 1945- 1953............................................................ 9\n",
      "Un régime totalitaire.................................................................................................. 9\n",
      "L'U.R.S.S. sous la botte de Staline.......................................................................... 10\n",
      "3. Les limites du m odèle............................................................................................... 11\n",
      "L'échec économ ique et les tentatives de réforme de Khrouchtchev (1953- 1964)...11\n",
      "Les craquements dans le bloc soviétique................................................................. 11\n",
      "II. Le modèle américain.................................................................................................... 12\n",
      "1. Les institutions.......................................................................................................... 12\n",
      "Avant toute chose, un E tat fédéral :......................................................................... 12\n",
      "Une des plus vieilles constitutions........................................................................... 12\n",
      "a : L'exécutif :.......................................................................................................... 13\n",
      "Donald Rumsfeld....................................................................................... 13\n",
      "Donald Rumsfeld....................................................................................... 13\n",
      "b: Le Pouvoi r législatif :.......................................................................................... 14\n",
      "c : Le Pouvoi r judiciaire :........................................................................................ 14\n",
      "2. Le fonctionne ment des institutions : la vie Politique :............................................. 15\n",
      "Les partis.................................................................................................................. 15\n",
      " Le \"quatrième pouvoi r\" : la Presse......................................................................... 15\n",
      "3. Les \"leader du m onde  libre\"..................................................................................... 15\n",
      "L'hégémonie économ ique, technique, culturelle..................................................... 15\n",
      "4. Les limites du m odèle américain.............................................................................. 17\n",
      "La chasse aux sorcières............................................................................................ 17\n",
      "La persistance de la pauvreté................................................................................... 18\n",
      "La lutte pour  les droits civiques............................................................................... 18\n",
      "III. Les débuts de la guerre froide : 1945- 1953................................................................. 20\n",
      "1. Origines d'une  rupture (1945- 47)............................................................................. 20\n",
      "L'escalade de la méfiance........................................................................................ 20\n",
      "L'URSS avance ses pions........................................................................................ 20\n",
      "2. L’année 1947 :  La rupture en Europe....................................................................... 22\n",
      "La doctrine Truman (mars 1947)  : le \"containment\" (l'endiguement).....................22\n",
      "La doctrine Jdanov :  22 s eptembre 1947...................................................................... 23\n",
      "La doctrine Jdanov ( sept.-oct. 47) : une répons e idéologique.................................24\n",
      "Le bloc occidental et le bloc socialiste :.................................................................. 24\n",
      "3. Le dénoue ment en Allemagne :la rupture consommée............................................ 24\n",
      "4. L'extension du C ommunisme en Asie : 1949- 53...................................................... 25\n",
      "Avènement de la Chine Populaire :......................................................................... 25\u001b[0m\n",
      "\n",
      "\u001b[1m> Finished chain.\u001b[0m\n"
     ]
    }
   ],
   "source": [
    "writerPrompt = ChatPromptTemplate.from_messages([\n",
    "    (\"system\", \"\"\"\n",
    "    You are the redactor. Given a chapter of a book, you are able to write a small course in less than 300 words, that is very ludic and interesting about the topic of the corresponding document.\n",
    "    You need to adapt the informations that you teach based on 3 levels of difficulty:\n",
    "    - Newbie\n",
    "    - Intermediate\n",
    "    - Advanced\n",
    "    \"\"\"\n",
    "    ),\n",
    "    (\"user\", \"{input}\"),\n",
    "    ])\n",
    "\n",
    "# Notice that we need to align the `memory_key`\n",
    "memory = ConversationBufferMemory(memory_key=\"writer_history\")\n",
    "\n",
    "writerConversation = LLMChain(\n",
    "    llm=llm,\n",
    "    prompt=writerPrompt,\n",
    "    verbose=True,\n",
    "    memory=memory\n",
    ")\n",
    "\n",
    "firstSummary = writerConversation.run('You are going to summarize for a Newbie. Here is the information : ' + input)"
   ]
  },
  {
   "cell_type": "markdown",
   "metadata": {},
   "source": [
    "<h2>Definition of the difficulty critic and answer of the writer</h2>"
   ]
  },
  {
   "cell_type": "code",
   "execution_count": 90,
   "metadata": {},
   "outputs": [],
   "source": [
    "difficultyCriticPrompt = ChatPromptTemplate.from_messages([\n",
    "    (\"system\", \"\"\"\n",
    "    You are the critic. You are part of a course redaction team experts that creates very ludic and interesting courses based on real books to make them more readable and interactive. Your role in this group is to evaluate the course written by the redactor so that it respects the level of difficulty asked by the user.\n",
    "    Ther 3 levels of difficulty:\n",
    "    - Newbie\n",
    "    - Intermediate\n",
    "    - Advanced\n",
    "\n",
    "    You will critic the course given by the redactor evaluate if it respects the difficulty level and explain why.\n",
    "     \"\"\"\n",
    "     ),\n",
    "    (\"user\", \"{input}\"),\n",
    "    ])\n",
    "\n",
    "\n",
    "difficultyCriticChain = difficultyCriticPrompt | llm | output_parser\n",
    "difficultyCriticOutput = difficultyCriticChain.invoke(firstSummary)"
   ]
  },
  {
   "cell_type": "code",
   "execution_count": 91,
   "metadata": {},
   "outputs": [
    {
     "name": "stdout",
     "output_type": "stream",
     "text": [
      "\n",
      "\n",
      "\u001b[1m> Entering new LLMChain chain...\u001b[0m\n",
      "Prompt after formatting:\n",
      "\u001b[32;1m\u001b[1;3mSystem: \n",
      "    You are the redactor. Given a chapter of a book, you are able to write a small course in less than 300 words, that is very ludic and interesting about the topic of the corresponding document.\n",
      "    You need to adapt the informations that you teach based on 3 levels of difficulty:\n",
      "    - Newbie\n",
      "    - Intermediate\n",
      "    - Advanced\n",
      "    \n",
      "Human: Overall, the course seems to be appropriate for the \"Newbie\" level of difficulty. Here are some positive aspects and areas for improvement:\n",
      "\n",
      "Positive aspects:\n",
      "\n",
      "* The course starts with a clear and concise definition of the Cold War, which is appropriate for someone who is new to the topic.\n",
      "* The course explains the differences between the Communist government of the Soviet Union and the democratic government of the United States, which is important for understanding the political tension between the two superpowers.\n",
      "* The course introduces the concept of \"containment\" and explains how it was a key part of U.S. policy during the Cold War.\n",
      "* The course mentions some of the proxy wars that were fought during the Cold War, which helps to illustrate the global impact of the conflict.\n",
      "\n",
      "Areas for improvement:\n",
      "\n",
      "* While the course explains that the Cold War lasted from 1947 to 1991, it would be helpful to provide more context for why the Cold War began and ended during those specific years.\n",
      "* The course mentions that the Soviet Union wanted to spread Communism throughout Europe, but it would be helpful to provide more details about why the Soviet Union had this goal and how it attempted to achieve it.\n",
      "* The course mentions the Korean War and the Vietnam War as examples of proxy wars, but it would be helpful to provide more context for these wars and why they were significant in the context of the Cold War.\n",
      "* The course could benefit from more engaging elements, such as images, videos, or interactive quizzes, to help break up the text and make the content more interesting for learners.\n",
      "\n",
      "In conclusion, the course is a good starting point for someone who is new to the topic of the Cold War, but it could benefit from some additional context and engaging elements to help learners better understand the complex history of this political conflict.\u001b[0m\n",
      "\n",
      "\u001b[1m> Finished chain.\u001b[0m\n"
     ]
    }
   ],
   "source": [
    "summaryDifficultyCritiqued = writerConversation.run(difficultyCriticOutput)"
   ]
  },
  {
   "cell_type": "markdown",
   "metadata": {},
   "source": [
    "<h2>Definition of the style critic and answer of the writer</h2>"
   ]
  },
  {
   "cell_type": "code",
   "execution_count": 93,
   "metadata": {},
   "outputs": [],
   "source": [
    "styleCriticPrompt = ChatPromptTemplate.from_messages([\n",
    "    (\"system\", \"\"\"\n",
    "    You are the critic. You are part of a course redaction team experts that creates very ludic and interesting courses based on real books to make them more readable and interactive. Your role in this group is to evaluate the course written by the redactor so that it is ludic and interesting.\n",
    "    You will critic the course given by the redactor, evaluate if it is ludic and interesting and explain why.\n",
    "     \"\"\"\n",
    "     ),\n",
    "    (\"user\", \"{input}\"),\n",
    "    ])\n",
    "\n",
    "\n",
    "styleCriticChain = styleCriticPrompt | llm | output_parser\n",
    "styleCriticOutput = styleCriticChain.invoke(summaryDifficultyCritiqued)"
   ]
  },
  {
   "cell_type": "code",
   "execution_count": 94,
   "metadata": {},
   "outputs": [
    {
     "name": "stdout",
     "output_type": "stream",
     "text": [
      "\n",
      "\n",
      "\u001b[1m> Entering new LLMChain chain...\u001b[0m\n",
      "Prompt after formatting:\n",
      "\u001b[32;1m\u001b[1;3mSystem: \n",
      "    You are the redactor. Given a chapter of a book, you are able to write a small course in less than 300 words, that is very ludic and interesting about the topic of the corresponding document.\n",
      "    You need to adapt the informations that you teach based on 3 levels of difficulty:\n",
      "    - Newbie\n",
      "    - Intermediate\n",
      "    - Advanced\n",
      "    \n",
      "Human: Overall, this course seems well-structured and suitable for a beginner audience. The use of simple language and clear explanations makes the complex topic of the Cold War more accessible to newbies. Here are some specific strengths and areas for improvement:\n",
      "\n",
      "Strengths:\n",
      "\n",
      "* The course starts with a clear definition of the Cold War and its context, which is helpful for setting the stage.\n",
      "* The introduction of key concepts, such as \"containment,\" is done in a way that is easy to understand and remember.\n",
      "* The mention of proxy wars provides a more nuanced understanding of the Cold War, going beyond the simple narrative of two superpowers facing off.\n",
      "* The course ends with a clear and concise summary of the Cold War's outcome, which is important for reinforcing learning.\n",
      "\n",
      "Areas for improvement:\n",
      "\n",
      "* While the course mentions the differences between the Soviet Union's Communist government and the United States' democratic government, it could delve deeper into the ideological differences between the two systems and how they fueled the conflict.\n",
      "* Some examples of specific events or conflicts during the Cold War could be added to make the course more engaging and memorable. For instance, discussing the Cuban Missile Crisis or the Berlin Wall would help illustrate the tensions and stakes of the Cold War.\n",
      "* The course could also include more interactivity or multimedia elements, such as videos, images, or quizzes, to make the learning experience more dynamic and engaging.\n",
      "\n",
      "Overall, this course has the potential to be a fun and interesting introduction to the Cold War for newbies. With some additional examples and multimedia elements, it could be even more engaging and effective.\u001b[0m\n",
      "\n",
      "\u001b[1m> Finished chain.\u001b[0m\n"
     ]
    }
   ],
   "source": [
    "\n",
    "summaryStyleCritiqued = writerConversation.run(styleCriticOutput)"
   ]
  },
  {
   "cell_type": "code",
   "execution_count": 95,
   "metadata": {},
   "outputs": [
    {
     "data": {
      "text/plain": [
       "'Course Title: The Cold War: A Fun and Friendly Introduction (300 words)\\n\\nNewbie:\\nWelcome to our course on the Cold War! The Cold War was a state of political and military tension after World War II, between the Western Bloc (led by the United States) and the Eastern Bloc (led by the Soviet Union). It lasted from 1947 to 1991 and never resulted in direct military action between the two superpowers, but it did lead to numerous proxy wars around the world. The main goal of the Western Bloc was to \"contain\" the Communist ideology of the Soviet Union from spreading to other parts of the world.\\n\\nIntermediate:\\nNow that we have a basic understanding of the Cold War, let\\'s dive a little deeper. Containment was a United States policy using numerous strategies to prevent the spread of communism abroad. The policy was a response to the Soviet Union\\'s efforts to spread communism and was the centerpiece of U.S. foreign policy from the late 1940s through the 1980s. The Cold War was also characterized by a high level of ideological tension between the Soviet Union\\'s Communist government and the United States\\' democratic government.\\n\\nAdvanced:\\nFor those of you who are ready, let\\'s take a closer look at some specific events during the Cold War. The Cuban Missile Crisis in 1962 was a 13-day confrontation between the United States and the Soviet Union initiated by the American discovery of Soviet ballistic missile deployment in Cuba. It is often considered the closest the Cold War came to escalating into a full-scale nuclear war. Another significant event was the construction of the Berlin Wall in 1961, which separated East and West Berlin and became a symbol of the Cold War, representing the division of East and West.\\n\\nIn summary, the Cold War was a state of political and military tension between the Western Bloc and the Eastern Bloc, with the main goal of the Western Bloc being to \"contain\" the spread of communism. The ideological differences between the two systems fueled the conflict, which lasted from 1947 to 1991 and never resulted in direct military action between the two superpowers, but did lead to numerous proxy wars around the world.\\n\\nNote: This is a simplified version of the course and it\\'s not possible to cover all the aspects of the Cold War in such a limited space, but I hope it gives a good starting point for those who are new to the topic.'"
      ]
     },
     "execution_count": 95,
     "metadata": {},
     "output_type": "execute_result"
    }
   ],
   "source": [
    "print(summaryStyleCritiqued)"
   ]
  }
 ],
 "metadata": {
  "kernelspec": {
   "display_name": "Python 3",
   "language": "python",
   "name": "python3"
  },
  "language_info": {
   "codemirror_mode": {
    "name": "ipython",
    "version": 3
   },
   "file_extension": ".py",
   "mimetype": "text/x-python",
   "name": "python",
   "nbconvert_exporter": "python",
   "pygments_lexer": "ipython3",
   "version": "3.11.6"
  }
 },
 "nbformat": 4,
 "nbformat_minor": 2
}
